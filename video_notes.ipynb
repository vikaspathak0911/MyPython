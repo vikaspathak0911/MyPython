{
  "nbformat": 4,
  "nbformat_minor": 0,
  "metadata": {
    "colab": {
      "provenance": [],
      "gpuType": "T4",
      "mount_file_id": "1c-sRVohuUdR0PBAyCn4SNbIklJfVVMNZ",
      "authorship_tag": "ABX9TyNFHK+PCXS4pBt1yOjeBUro",
      "include_colab_link": true
    },
    "kernelspec": {
      "name": "python3",
      "display_name": "Python 3"
    },
    "language_info": {
      "name": "python"
    },
    "accelerator": "GPU"
  },
  "cells": [
    {
      "cell_type": "markdown",
      "metadata": {
        "id": "view-in-github",
        "colab_type": "text"
      },
      "source": [
        "<a href=\"https://colab.research.google.com/github/vikaspathak0911/MyPython/blob/main/video_notes.ipynb\" target=\"_parent\"><img src=\"https://colab.research.google.com/assets/colab-badge.svg\" alt=\"Open In Colab\"/></a>"
      ]
    },
    {
      "cell_type": "code",
      "source": [
        "!pip install -U yt-dlp\n",
        "!pip install --upgrade scenedetect[opencv]\n"
      ],
      "metadata": {
        "colab": {
          "base_uri": "https://localhost:8080/"
        },
        "id": "cdv7o8cvS-_P",
        "outputId": "2e2ff035-fb62-4aa6-df68-85520dd0a4a8"
      },
      "execution_count": 5,
      "outputs": [
        {
          "output_type": "stream",
          "name": "stdout",
          "text": [
            "Requirement already satisfied: yt-dlp in /usr/local/lib/python3.11/dist-packages (2025.6.9)\n",
            "Collecting scenedetect[opencv]\n",
            "  Downloading scenedetect-0.6.6-py3-none-any.whl.metadata (4.0 kB)\n",
            "Requirement already satisfied: Click in /usr/local/lib/python3.11/dist-packages (from scenedetect[opencv]) (8.2.1)\n",
            "Requirement already satisfied: numpy in /usr/local/lib/python3.11/dist-packages (from scenedetect[opencv]) (2.0.2)\n",
            "Requirement already satisfied: platformdirs in /usr/local/lib/python3.11/dist-packages (from scenedetect[opencv]) (4.3.8)\n",
            "Requirement already satisfied: tqdm in /usr/local/lib/python3.11/dist-packages (from scenedetect[opencv]) (4.67.1)\n",
            "Requirement already satisfied: opencv-python in /usr/local/lib/python3.11/dist-packages (from scenedetect[opencv]) (4.11.0.86)\n",
            "Downloading scenedetect-0.6.6-py3-none-any.whl (131 kB)\n",
            "\u001b[2K   \u001b[90m━━━━━━━━━━━━━━━━━━━━━━━━━━━━━━━━━━━━━━━━\u001b[0m \u001b[32m131.6/131.6 kB\u001b[0m \u001b[31m4.3 MB/s\u001b[0m eta \u001b[36m0:00:00\u001b[0m\n",
            "\u001b[?25hInstalling collected packages: scenedetect\n",
            "Successfully installed scenedetect-0.6.6\n"
          ]
        }
      ]
    },
    {
      "cell_type": "code",
      "source": [
        "import os\n",
        "import json\n",
        "import shutil\n",
        "import logging\n",
        "import concurrent.futures\n",
        "import subprocess\n",
        "from PIL import Image\n",
        "import cv2\n",
        "from scenedetect import VideoManager, SceneManager\n",
        "from scenedetect.detectors import ContentDetector\n",
        "\n",
        "# --- Configuration ---\n",
        "import getpass"
      ],
      "metadata": {
        "id": "Az04A1j8TDlX"
      },
      "execution_count": 6,
      "outputs": []
    },
    {
      "cell_type": "code",
      "source": [
        "# User input for playlist URL and output directory\n",
        "YOUTUBE_PLAYLIST_URL = input('Paste your YouTube playlist URL: ').strip()\n",
        "OUTPUT_BASE_DIR = input('Enter Google Drive folder path for PDFs (e.g., /content/drive/MyDrive/Slides): ').strip()\n",
        "TEMP_VIDEO_DIR = '/content/temp_videos'\n",
        "SCENE_DETECTION_THRESHOLD = 15.0  # Adjust as needed\n",
        "\n",
        "# Ensure output directory exists\n",
        "os.makedirs(OUTPUT_BASE_DIR, exist_ok=True)\n",
        "os.makedirs(TEMP_VIDEO_DIR, exist_ok=True)\n",
        "\n",
        "# --- Logging Setup ---\n",
        "logging.basicConfig(level=logging.INFO, format='%(asctime)s - %(levelname)s - %(message)s')\n"
      ],
      "metadata": {
        "id": "r-tvdh2kTIwi",
        "colab": {
          "base_uri": "https://localhost:8080/"
        },
        "outputId": "8104da32-6f88-4ddc-8fc5-71eefb791a72"
      },
      "execution_count": 7,
      "outputs": [
        {
          "name": "stdout",
          "output_type": "stream",
          "text": [
            "Paste your YouTube playlist URL: https://www.youtube.com/playlist?list=PLxWXx9SeSNsMYhCRYkb5lDXJKmIiv6wfh\n",
            "Enter Google Drive folder path for PDFs (e.g., /content/drive/MyDrive/Slides): /content/drive/My Drive/YoutubeVideoNotes\n"
          ]
        }
      ]
    },
    {
      "cell_type": "code",
      "execution_count": 8,
      "metadata": {
        "id": "PjjTTk7eS1iT"
      },
      "outputs": [],
      "source": [
        "# --- Helper Functions ---\n",
        "\n",
        "def get_video_urls_from_playlist(playlist_url):\n",
        "    \"\"\"Extracts video URLs from a YouTube playlist using yt-dlp with safe JSON parsing.\"\"\"\n",
        "    logging.info(\"Extracting video URLs from playlist...\")\n",
        "    command = [\n",
        "        'yt-dlp', '--flat-playlist', '--print-json', playlist_url\n",
        "    ]\n",
        "    try:\n",
        "        result = subprocess.run(command, capture_output=True, text=True, check=True)\n",
        "        video_urls = []\n",
        "        for line in result.stdout.strip().split('\\n'):\n",
        "            try:\n",
        "                data = json.loads(line)\n",
        "                if data.get('_type') == 'url':\n",
        "                    video_urls.append(f\"https://www.youtube.com/watch?v={data['id']}\")\n",
        "            except Exception:\n",
        "                continue\n",
        "        logging.info(f\"Found {len(video_urls)} videos in the playlist.\")\n",
        "        return video_urls\n",
        "    except Exception as e:\n",
        "        logging.error(f\"Error extracting playlist URLs: {e}\")\n",
        "        return []\n",
        "\n",
        "\n",
        "\n"
      ]
    },
    {
      "cell_type": "code",
      "source": [
        "# import glob\n",
        "\n",
        "# def download_video(video_url, output_dir):\n",
        "#     \"\"\"Downloads a single video using yt-dlp and returns the downloaded file path.\"\"\"\n",
        "#     os.makedirs(output_dir, exist_ok=True)\n",
        "#     # Use a simple output template for easier file detection\n",
        "#     output_template = os.path.join(output_dir, '%(id)s.%(ext)s')\n",
        "#     command = [\n",
        "#         'yt-dlp',\n",
        "#         '-f', '22/best',\n",
        "#         '-o', output_template,\n",
        "#         '--no-playlist',\n",
        "#         video_url\n",
        "#     ]\n",
        "#     try:\n",
        "#         process = subprocess.run(command, capture_output=True, text=True, check=True)\n",
        "#         # After download, search for the file by video ID\n",
        "#         video_id = video_url.split('v=')[1]\n",
        "#         # Find any file in output_dir that starts with the video ID\n",
        "#         files = glob.glob(os.path.join(output_dir, f\"{video_id}.*\"))\n",
        "#         if files:\n",
        "#             logging.info(f\"Downloaded video: {files[0]}\")\n",
        "#             return files[0]\n",
        "#         else:\n",
        "#             logging.warning(f\"Video not downloaded or unavailable: {video_url}\")\n",
        "#             return None\n",
        "#     except subprocess.CalledProcessError as e:\n",
        "#         logging.error(f\"yt-dlp failed for {video_url}: {e.stderr}\")\n",
        "#         return None\n"
      ],
      "metadata": {
        "id": "UeqJX4qmYBMI"
      },
      "execution_count": null,
      "outputs": []
    },
    {
      "cell_type": "code",
      "source": [
        "import glob\n",
        "import re\n",
        "\n",
        "def sanitize_filename(name):\n",
        "    # Remove characters that are invalid in filenames\n",
        "    return re.sub(r'[\\\\/*?:\"<>|]', \"\", name)\n",
        "\n",
        "def download_video(video_url, output_dir):\n",
        "    \"\"\"Downloads a single video using yt-dlp and returns the downloaded file path and video title.\"\"\"\n",
        "    os.makedirs(output_dir, exist_ok=True)\n",
        "    # Get video title\n",
        "    info_command = [\n",
        "        'yt-dlp',\n",
        "        '--skip-download',\n",
        "        '--print', '%(title)s',\n",
        "        '--print', '%(id)s',\n",
        "        video_url\n",
        "    ]\n",
        "    try:\n",
        "        info_process = subprocess.run(info_command, capture_output=True, text=True, check=True)\n",
        "        lines = info_process.stdout.strip().split('\\n')\n",
        "        video_title = sanitize_filename(lines[0])\n",
        "        video_id = lines[1]\n",
        "        output_template = os.path.join(output_dir, f'{video_id}.%(ext)s')\n",
        "        # Download the video\n",
        "        download_command = [\n",
        "            'yt-dlp',\n",
        "            '-f', 'bestvideo[ext=mp4][height<=2160]+bestaudio[ext=m4a]/best[ext=mp4]/best',\n",
        "            '-o', output_template,\n",
        "            '--no-playlist',\n",
        "            video_url\n",
        "        ]\n",
        "        subprocess.run(download_command, check=True)\n",
        "        # Find the downloaded file\n",
        "        files = glob.glob(os.path.join(output_dir, f\"{video_id}.*\"))\n",
        "        if files:\n",
        "            logging.info(f\"Downloaded video: {files[0]}\")\n",
        "            return files[0], video_title\n",
        "        else:\n",
        "            logging.warning(f\"Video not downloaded or unavailable: {video_url}\")\n",
        "            return None, None\n",
        "    except subprocess.CalledProcessError as e:\n",
        "        logging.error(f\"yt-dlp failed for {video_url}: {e.stderr}\")\n",
        "        return None, None\n"
      ],
      "metadata": {
        "id": "sFAtzshsgBl6"
      },
      "execution_count": 9,
      "outputs": []
    },
    {
      "cell_type": "code",
      "source": [
        "from scenedetect import open_video, SceneManager\n",
        "from scenedetect.detectors import ContentDetector\n",
        "\n",
        "def extract_slide_frames(video_path, output_dir, threshold):\n",
        "    \"\"\"Detects slide changes and saves frames for each change using the new PySceneDetect API.\"\"\"\n",
        "    import cv2\n",
        "    import os\n",
        "    os.makedirs(output_dir, exist_ok=True)\n",
        "    frame_paths = []\n",
        "\n",
        "    # Open the video using the new API\n",
        "    video = open_video(video_path)\n",
        "    scene_manager = SceneManager()\n",
        "    scene_manager.add_detector(ContentDetector(threshold=threshold))\n",
        "\n",
        "    # Detect scenes\n",
        "    scene_manager.detect_scenes(video)\n",
        "    scene_list = scene_manager.get_scene_list()\n",
        "\n",
        "    # Extract frames at scene boundaries\n",
        "    cap = cv2.VideoCapture(video_path)\n",
        "    for i, (start_time, end_time) in enumerate(scene_list):\n",
        "        # Get frame number at scene start\n",
        "        frame_num = int(start_time.get_frames())\n",
        "        cap.set(cv2.CAP_PROP_POS_FRAMES, frame_num)\n",
        "        ret, frame = cap.read()\n",
        "        if ret:\n",
        "            from PIL import Image\n",
        "            import numpy as np\n",
        "            frame_filename = os.path.join(output_dir, f\"slide_{i+1:04d}.png\")\n",
        "            # Convert BGR (OpenCV) to RGB (Pillow)\n",
        "            rgb_frame = cv2.cvtColor(frame, cv2.COLOR_BGR2RGB)\n",
        "            img = Image.fromarray(rgb_frame)\n",
        "            img.save(frame_filename, format='PNG', compress_level=0)  # No compression\n",
        "            frame_paths.append(frame_filename)\n",
        "\n",
        "    cap.release()\n",
        "    return frame_paths\n",
        "\n",
        "\n"
      ],
      "metadata": {
        "id": "XmUAegHIYJQk"
      },
      "execution_count": 13,
      "outputs": []
    },
    {
      "cell_type": "code",
      "source": [],
      "metadata": {
        "id": "5mOrCttAl48z"
      },
      "execution_count": null,
      "outputs": []
    },
    {
      "cell_type": "code",
      "source": [
        "def create_pdf_from_images(image_paths, pdf_filename):\n",
        "    \"\"\"Creates a PDF from a list of image paths using Pillow.\"\"\"\n",
        "    if not image_paths:\n",
        "        logging.warning(\"No images to convert to PDF.\")\n",
        "        return\n",
        "    image_paths.sort()\n",
        "    images = []\n",
        "    for img_path in image_paths:\n",
        "        try:\n",
        "            img = Image.open(img_path).convert('RGB')\n",
        "            images.append(img)\n",
        "        except Exception as e:\n",
        "            logging.error(f\"Error opening image {img_path}: {e}\")\n",
        "    if images:\n",
        "        images[0].save(pdf_filename, save_all=True, append_images=images[1:])\n",
        "        logging.info(f\"PDF saved: {pdf_filename}\")\n",
        "\n",
        "def process_video(video_url):\n",
        "    video_path, video_title = download_video(video_url, TEMP_VIDEO_DIR)\n",
        "    if not video_path or not video_title:\n",
        "        return\n",
        "    frame_dir = os.path.join(TEMP_VIDEO_DIR, f\"{os.path.splitext(os.path.basename(video_path))[0]}_frames\")\n",
        "    pdf_path = os.path.join(OUTPUT_BASE_DIR, f\"{video_title}.pdf\")\n",
        "    try:\n",
        "        frames = extract_slide_frames(video_path, frame_dir, SCENE_DETECTION_THRESHOLD)\n",
        "        create_pdf_from_images(frames, pdf_path)\n",
        "    finally:\n",
        "        # Cleanup\n",
        "        if os.path.exists(video_path):\n",
        "            os.remove(video_path)\n",
        "        if os.path.exists(frame_dir):\n",
        "            shutil.rmtree(frame_dir)\n"
      ],
      "metadata": {
        "id": "9dWTY6zPZOd-"
      },
      "execution_count": 14,
      "outputs": []
    },
    {
      "cell_type": "code",
      "source": [],
      "metadata": {
        "id": "FEQAXGxFledx"
      },
      "execution_count": null,
      "outputs": []
    },
    {
      "cell_type": "code",
      "source": [
        "\n",
        "# --- Main Execution ---\n",
        "\n",
        "video_urls = get_video_urls_from_playlist(YOUTUBE_PLAYLIST_URL)\n",
        "if not video_urls:\n",
        "    logging.error(\"No videos found or error occurred. Exiting.\")\n",
        "else:\n",
        "    logging.info(f\"Processing {len(video_urls)} videos in parallel...\")\n",
        "    with concurrent.futures.ThreadPoolExecutor(max_workers=2) as executor:\n",
        "        list(executor.map(process_video, video_urls))\n",
        "    # Final cleanup\n",
        "    if os.path.exists(TEMP_VIDEO_DIR):\n",
        "        shutil.rmtree(TEMP_VIDEO_DIR)\n",
        "    logging.info(\"All playlist videos processed. PDFs saved to your specified Google Drive folder.\")"
      ],
      "metadata": {
        "id": "EXNU8XVzZOmt",
        "colab": {
          "base_uri": "https://localhost:8080/"
        },
        "outputId": "d2c79648-09d6-42b9-c720-25e4a0879846"
      },
      "execution_count": null,
      "outputs": [
        {
          "output_type": "stream",
          "name": "stderr",
          "text": [
            "INFO:pyscenedetect:Detecting scenes...\n",
            "INFO:pyscenedetect:Detecting scenes...\n",
            "INFO:pyscenedetect:Detecting scenes...\n",
            "INFO:pyscenedetect:Detecting scenes...\n",
            "INFO:pyscenedetect:Detecting scenes...\n",
            "INFO:pyscenedetect:Detecting scenes...\n",
            "INFO:pyscenedetect:Detecting scenes...\n",
            "INFO:pyscenedetect:Detecting scenes...\n",
            "INFO:pyscenedetect:Detecting scenes...\n",
            "INFO:pyscenedetect:Detecting scenes...\n",
            "INFO:pyscenedetect:Detecting scenes...\n",
            "INFO:pyscenedetect:Detecting scenes...\n",
            "INFO:pyscenedetect:Detecting scenes...\n",
            "INFO:pyscenedetect:Detecting scenes...\n",
            "INFO:pyscenedetect:Detecting scenes...\n",
            "INFO:pyscenedetect:Detecting scenes...\n",
            "INFO:pyscenedetect:Detecting scenes...\n",
            "INFO:pyscenedetect:Detecting scenes...\n"
          ]
        }
      ]
    },
    {
      "cell_type": "code",
      "source": [
        "!yt-dlp -F \"https://youtu.be/fMtvn0j1rOI?si=jWDaplKLB1pRUpy5\"\n"
      ],
      "metadata": {
        "id": "fXVz-iyujIYi"
      },
      "execution_count": null,
      "outputs": []
    },
    {
      "cell_type": "code",
      "source": [
        "!yt-dlp -f \"bestvideo[ext=mp4]+bestaudio[ext=m4a]/best[ext=mp4]/best\" -o \"video.%(ext)s\" \"https://youtu.be/fMtvn0j1rOI?si=jWDaplKLB1pRUpy5\"\n"
      ],
      "metadata": {
        "id": "qIc__68Xjcx-"
      },
      "execution_count": null,
      "outputs": []
    }
  ]
}